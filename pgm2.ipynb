{
 "cells": [
  {
   "cell_type": "code",
   "execution_count": 2,
   "id": "2bf95134-cfdf-44bf-bc93-8a28739393ca",
   "metadata": {},
   "outputs": [
    {
     "name": "stdout",
     "output_type": "stream",
     "text": [
      "\n",
      "Step 1 of Candidate Elimination Algorithm\n",
      "['sunny', 'warm', '?', 'strong', 'warm', 'same']\n",
      "[['?', '?', '?', '?', '?', '?'], ['?', '?', '?', '?', '?', '?'], ['?', '?', '?', '?', '?', '?'], ['?', '?', '?', '?', '?', '?'], ['?', '?', '?', '?', '?', '?'], ['?', '?', '?', '?', '?', '?']]\n",
      "\n",
      "Step 2 of Candidate Elimination Algorithm\n",
      "['sunny', 'warm', '?', 'strong', 'warm', 'same']\n",
      "[['?', '?', '?', '?', '?', '?'], ['?', '?', '?', '?', '?', '?'], ['?', '?', '?', '?', '?', '?'], ['?', '?', '?', '?', '?', '?'], ['?', '?', '?', '?', '?', '?'], ['?', '?', '?', '?', '?', '?']]\n",
      "\n",
      "Step 3 of Candidate Elimination Algorithm\n",
      "['sunny', 'warm', '?', 'strong', 'warm', 'same']\n",
      "[['sunny', '?', '?', '?', '?', '?'], ['?', 'warm', '?', '?', '?', '?'], ['?', '?', '?', '?', '?', '?'], ['?', '?', '?', '?', '?', '?'], ['?', '?', '?', '?', '?', '?'], ['?', '?', '?', '?', '?', 'same']]\n",
      "\n",
      "Step 4 of Candidate Elimination Algorithm\n",
      "['sunny', 'warm', '?', 'strong', '?', '?']\n",
      "[['sunny', '?', '?', '?', '?', '?'], ['?', 'warm', '?', '?', '?', '?'], ['?', '?', '?', '?', '?', '?'], ['?', '?', '?', '?', '?', '?'], ['?', '?', '?', '?', '?', '?'], ['?', '?', '?', '?', '?', '?']]\n",
      "\n",
      "Final Specific hypothesis:\n",
      " ['sunny', 'warm', '?', 'strong', '?', '?']\n",
      "\n",
      "Final General hypothesis:\n",
      " [['sunny', '?', '?', '?', '?', '?'], ['?', 'warm', '?', '?', '?', '?']]\n"
     ]
    }
   ],
   "source": [
    "import csv\n",
    "with open(\"Program1dataset.csv\") as f:\n",
    "    csv_file = csv.reader(f)\n",
    "    data = list(csv_file)\n",
    "    specific = data[1][:-1]\n",
    "    general = [['?' for i in range(len(specific))] for j in range(len(specific))]\n",
    "    for i in data:\n",
    "        if i[-1] == \"Yes\":\n",
    "            for j in range(len(specific)):\n",
    "                if i[j] != specific[j]:\n",
    "                    specific[j] = \"?\"\n",
    "                    general[j][j] = \"?\"\n",
    "        elif i[-1] == \"No\":\n",
    "            for j in range(len(specific)):\n",
    "                if i[j] != specific[j]:\n",
    "                    general[j][j] = specific[j]\n",
    "                else:\n",
    "                    general[j][j] = \"?\"\n",
    "        print(\"\\nStep \" + str(data.index(i)+1) + \" of Candidate Elimination Algorithm\")\n",
    "        print(specific)\n",
    "        print(general)\n",
    "gh = [] # gh = general Hypothesis\n",
    "for i in general:\n",
    "    for j in i:\n",
    "        if j != '?':\n",
    "            gh.append(i)\n",
    "            break\n",
    "print(\"\\nFinal Specific hypothesis:\\n\", specific)\n",
    "print(\"\\nFinal General hypothesis:\\n\", gh)"
   ]
  },
  {
   "cell_type": "code",
   "execution_count": null,
   "id": "81d7da21-0cc0-4b5c-ac56-6613f8fe78c9",
   "metadata": {},
   "outputs": [],
   "source": []
  }
 ],
 "metadata": {
  "kernelspec": {
   "display_name": "Python 3 (ipykernel)",
   "language": "python",
   "name": "python3"
  },
  "language_info": {
   "codemirror_mode": {
    "name": "ipython",
    "version": 3
   },
   "file_extension": ".py",
   "mimetype": "text/x-python",
   "name": "python",
   "nbconvert_exporter": "python",
   "pygments_lexer": "ipython3",
   "version": "3.10.6"
  }
 },
 "nbformat": 4,
 "nbformat_minor": 5
}
