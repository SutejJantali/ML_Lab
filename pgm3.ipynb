{
 "cells": [
  {
   "cell_type": "code",
   "execution_count": 1,
   "id": "e0ba15f4-be6f-4ca6-95f9-4d0b15ed4603",
   "metadata": {},
   "outputs": [
    {
     "name": "stdout",
     "output_type": "stream",
     "text": [
      "List of attribute name\n",
      "    Outlook  Temperature  Humidity  Wind  Target\n",
      "0         0            0         0     0       0\n",
      "1         0            0         0     1       0\n",
      "2         1            0         0     0       1\n",
      "3         2            1         0     0       1\n",
      "4         2            2         1     0       1\n",
      "5         2            2         1     1       0\n",
      "6         1            2         1     1       1\n",
      "7         0            1         0     0       0\n",
      "8         0            2         1     0       1\n",
      "9         2            1         1     0       1\n",
      "10        0            1         1     1       1\n",
      "11        1            1         0     1       1\n",
      "12        1            0         1     0       1\n",
      "13        2            1         0     1       0\n",
      "The tree structure\n",
      "{'Outlook': {0: {'Humidity': {0: 0, 1: 1}}, 1: 1, 2: {'Wind': {0: 1, 1: 0}}}}\n"
     ]
    }
   ],
   "source": [
    "import pandas as pd\n",
    "from pprint import pprint\n",
    "from sklearn.feature_selection import mutual_info_classif\n",
    "from collections import Counter\n",
    "\n",
    "def id3(df, target_attribute, attribute_names, default_class=None):\n",
    "    cnt=Counter(x for x in df[target_attribute])\n",
    "    if len(cnt)==1:\n",
    "        return next(iter(cnt))\n",
    "    elif df.empty or (not attribute_names):\n",
    "        return default_class\n",
    "    else:\n",
    "        gainz = mutual_info_classif(df[attribute_names],df[target_attribute],discrete_features=True)\n",
    "        index_of_max=gainz.tolist().index(max(gainz))\n",
    "        best_attr=attribute_names[index_of_max]\n",
    "        tree={best_attr:{}}\n",
    "        remaining_attribute_names=[i for i in attribute_names if i!=best_attr]\n",
    "        for attr_val, data_subset in df.groupby(best_attr):\n",
    "            subtree=id3(data_subset, target_attribute, remaining_attribute_names,default_class)\n",
    "            tree[best_attr][attr_val]=subtree\n",
    "        return tree\n",
    "df=pd.read_csv(\"PlayTennis.csv\")\n",
    "attribute_names=df.columns.tolist()\n",
    "print(\"List of attribute name\")\n",
    "attribute_names.remove(\"Target\")\n",
    "for colname in df.select_dtypes(\"object\"):\n",
    "    df[colname], _ = df[colname].factorize()\n",
    "print(df)\n",
    "tree= id3(df,\"Target\", attribute_names)\n",
    "print(\"The tree structure\")\n",
    "print(tree)"
   ]
  },
  {
   "cell_type": "code",
   "execution_count": null,
   "id": "e571bea2-8d1c-4375-b4b0-cd4676130f4c",
   "metadata": {},
   "outputs": [],
   "source": []
  }
 ],
 "metadata": {
  "kernelspec": {
   "display_name": "Python 3 (ipykernel)",
   "language": "python",
   "name": "python3"
  },
  "language_info": {
   "codemirror_mode": {
    "name": "ipython",
    "version": 3
   },
   "file_extension": ".py",
   "mimetype": "text/x-python",
   "name": "python",
   "nbconvert_exporter": "python",
   "pygments_lexer": "ipython3",
   "version": "3.10.6"
  }
 },
 "nbformat": 4,
 "nbformat_minor": 5
}
