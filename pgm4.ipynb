{
 "cells": [
  {
   "cell_type": "code",
   "execution_count": 1,
   "id": "ffbde2c8-889c-48a3-9041-32d7ffc9864d",
   "metadata": {},
   "outputs": [
    {
     "name": "stdout",
     "output_type": "stream",
     "text": [
      "Normalized Input: \n",
      "[[0.66666667 1.        ]\n",
      " [0.33333333 0.55555556]\n",
      " [1.         0.66666667]]\n",
      "Actual Output: \n",
      "[[0.92]\n",
      " [0.86]\n",
      " [0.89]]\n",
      "Predicted Output: \n",
      " [[0.89661649]\n",
      " [0.88028834]\n",
      " [0.89285407]]\n"
     ]
    }
   ],
   "source": [
    "import numpy as np # numpy is commonly used to process number array\n",
    "X = np.array(([2, 9], [1, 5], [3, 6]), dtype=float) # Features ( Hrs Slept, Hrs Studied)\n",
    "y = np.array(([92], [86], [89]), dtype=float) # Labels(Marks obtained)\n",
    "X = X/np.amax(X,axis=0) # Normalize\n",
    "y = y/100\n",
    "\n",
    "def sigmoid(x):\n",
    "    return 1/(1 + np.exp(-x))\n",
    "def sigmoid_grad(x):\n",
    "    return x * (1 - x)\n",
    "# Variable initialization\n",
    "epoch=1000\n",
    "#Setting training iterations\n",
    "eta =0.2\n",
    "#Setting learning rate (eta)\n",
    "input_neurons = 2 #number of features in data set\n",
    "hidden_neurons = 3 #number of hidden layers neurons\n",
    "output_neurons = 1 #number of neurons at output layer\n",
    "# Weight and bias - Random initialization\n",
    "wh=np.random.uniform(size=(input_neurons,hidden_neurons)) # 2x3\n",
    "bh=np.random.uniform(size=(1,hidden_neurons))\n",
    "# 1x3\n",
    "wout=np.random.uniform(size=(hidden_neurons,output_neurons)) # 1x1\n",
    "bout=np.random.uniform(size=(1,output_neurons))\n",
    "for i in range(epoch):\n",
    "#Forward Propogation\n",
    "    h_ip=np.dot(X,wh) + bh\n",
    "# Dot product + bias\n",
    "    h_act = sigmoid(h_ip)\n",
    "# Activation function\n",
    "    o_ip=np.dot(h_act,wout) + bout\n",
    "    output = sigmoid(o_ip)\n",
    "#Backpropagation\n",
    "# Error at Output layer\n",
    "    Eo = y-output\n",
    "# Error at o/p\n",
    "    outgrad = sigmoid_grad(output)\n",
    "    d_output = Eo* outgrad\n",
    "# Errj=Oj(1-Oj)(Tj-Oj)\n",
    "# Error at Hidden later\n",
    "    Eh = d_output.dot(wout.T)\n",
    "# .T means transpose\n",
    "    hiddengrad = sigmoid_grad(h_act)\n",
    "# How much hidden layer wts contributed to error\n",
    "    d_hidden = Eh * hiddengrad\n",
    "    wout += h_act.T.dot(d_output) *eta\n",
    "# Dotproduct of nextlayererror and currentlayerop\n",
    "    wh += X.T.dot(d_hidden) *eta\n",
    "print(\"Normalized Input: \\n\" + str(X))\n",
    "print(\"Actual Output: \\n\" + str(y))\n",
    "print(\"Predicted Output: \\n\" ,output)"
   ]
  },
  {
   "cell_type": "code",
   "execution_count": null,
   "id": "34111d4f-ad90-4650-842b-b2c1dde87b45",
   "metadata": {},
   "outputs": [],
   "source": []
  }
 ],
 "metadata": {
  "kernelspec": {
   "display_name": "Python 3 (ipykernel)",
   "language": "python",
   "name": "python3"
  },
  "language_info": {
   "codemirror_mode": {
    "name": "ipython",
    "version": 3
   },
   "file_extension": ".py",
   "mimetype": "text/x-python",
   "name": "python",
   "nbconvert_exporter": "python",
   "pygments_lexer": "ipython3",
   "version": "3.10.6"
  }
 },
 "nbformat": 4,
 "nbformat_minor": 5
}
