{
 "cells": [
  {
   "cell_type": "code",
   "execution_count": 4,
   "id": "a0131311-a978-48d4-a5d5-5db2a6940129",
   "metadata": {},
   "outputs": [
    {
     "name": "stdout",
     "output_type": "stream",
     "text": [
      "Iris Data set loaded...\n",
      "Dataset is split into training and testing...\n",
      "Size of trainng data and its label (135, 4) (135,)\n",
      "Size of trainng data and its label (15, 4) (15,)\n",
      "Label 0 - setosa\n",
      "Label 1 - versicolor\n",
      "Label 2 - virginica\n",
      "Results of Classification using K-nn with K=1\n",
      " Sample: [5.5 2.4 3.8 1.1] Actual-label: 1  Predicted-label: 1\n",
      " Sample: [6.8 2.8 4.8 1.4] Actual-label: 1  Predicted-label: 1\n",
      " Sample: [4.9 3.1 1.5 0.2] Actual-label: 0  Predicted-label: 0\n",
      " Sample: [7.9 3.8 6.4 2. ] Actual-label: 2  Predicted-label: 2\n",
      " Sample: [7.2 3.6 6.1 2.5] Actual-label: 2  Predicted-label: 2\n",
      " Sample: [6.2 3.4 5.4 2.3] Actual-label: 2  Predicted-label: 2\n",
      " Sample: [5.1 3.4 1.5 0.2] Actual-label: 0  Predicted-label: 0\n",
      " Sample: [5.7 3.8 1.7 0.3] Actual-label: 0  Predicted-label: 0\n",
      " Sample: [5.1 3.3 1.7 0.5] Actual-label: 0  Predicted-label: 0\n",
      " Sample: [6.3 2.9 5.6 1.8] Actual-label: 2  Predicted-label: 2\n",
      " Sample: [5.8 2.7 3.9 1.2] Actual-label: 1  Predicted-label: 1\n",
      " Sample: [6.5 3.  5.2 2. ] Actual-label: 2  Predicted-label: 2\n",
      " Sample: [6.4 2.9 4.3 1.3] Actual-label: 1  Predicted-label: 1\n",
      " Sample: [6.3 2.7 4.9 1.8] Actual-label: 2  Predicted-label: 2\n",
      " Sample: [6.7 3.1 4.4 1.4] Actual-label: 1  Predicted-label: 1\n",
      "Classification Accuracy : 1.0\n"
     ]
    }
   ],
   "source": [
    "from sklearn.model_selection import train_test_split\n",
    "from sklearn.neighbors import KNeighborsClassifier\n",
    "from sklearn import datasets\n",
    "# Load dataset\n",
    "iris=datasets.load_iris()\n",
    "print(\"Iris Data set loaded...\")\n",
    "# Split the data into train and test samples\n",
    "x_train, x_test, y_train, y_test = train_test_split(iris.data,iris.target,test_size=0.1)\n",
    "print(\"Dataset is split into training and testing...\")\n",
    "print(\"Size of trainng data and its label\",x_train.shape,y_train.shape)\n",
    "print(\"Size of trainng data and its label\",x_test.shape, y_test.shape)\n",
    "# Prints Label no. and their names\n",
    "for i in range(len(iris.target_names)):\n",
    "    print(\"Label\", i , \"-\",str(iris.target_names[i]))\n",
    "# Create object of KNN classifier\n",
    "classifier = KNeighborsClassifier(n_neighbors=1)\n",
    "# Perform Training\n",
    "classifier.fit(x_train, y_train)\n",
    "# Perform testing\n",
    "y_pred=classifier.predict(x_test)\n",
    "# Display the results\n",
    "print(\"Results of Classification using K-nn with K=1\")\n",
    "for r in range(0,len(x_test)):\n",
    "    print(\" Sample:\", str(x_test[r]), \"Actual-label:\", str(y_test[r]),\" Predicted-label:\",str(y_pred[r]))\n",
    "print(\"Classification Accuracy :\" , classifier.score(x_test,y_test));"
   ]
  },
  {
   "cell_type": "code",
   "execution_count": null,
   "id": "3327ccf3-1b08-4d70-bef8-4cb81181d6e1",
   "metadata": {},
   "outputs": [],
   "source": []
  }
 ],
 "metadata": {
  "kernelspec": {
   "display_name": "Python 3 (ipykernel)",
   "language": "python",
   "name": "python3"
  },
  "language_info": {
   "codemirror_mode": {
    "name": "ipython",
    "version": 3
   },
   "file_extension": ".py",
   "mimetype": "text/x-python",
   "name": "python",
   "nbconvert_exporter": "python",
   "pygments_lexer": "ipython3",
   "version": "3.10.6"
  }
 },
 "nbformat": 4,
 "nbformat_minor": 5
}
